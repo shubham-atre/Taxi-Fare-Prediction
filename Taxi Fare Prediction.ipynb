{
 "cells": [
  {
   "cell_type": "code",
   "execution_count": 1,
   "metadata": {},
   "outputs": [],
   "source": [
    "import numpy as np\n",
    "import pandas as pd\n",
    "from sklearn.linear_model import LinearRegression\n",
    "import matplotlib as matplotlib\n",
    "import seaborn as sns\n",
    "from sklearn.model_selection import train_test_split\n",
    "from sklearn.metrics import mean_squared_error\n",
    "from math import sqrt\n",
    "from sklearn.ensemble import RandomForestRegressor"
   ]
  },
  {
   "cell_type": "markdown",
   "metadata": {},
   "source": [
    "The NYC Taxi and Limousine commission describes the fare calculation as below.\n",
    "<br>(1)The initial charge is $2.50.\n",
    "<br>(2)Plus 50 cents per 1/5 mile or 50 cents per 60 seconds in slow traffic or when the vehicle is stopped.\n",
    "I will use this information to perform some data cleaning and other analysis activity later.\n",
    "<br><br>\n",
    "Fistly, I load the data set and specify the column which needs to be parsed as date."
   ]
  },
  {
   "cell_type": "code",
   "execution_count": 2,
   "metadata": {},
   "outputs": [
    {
     "data": {
      "text/plain": [
       "key                          object\n",
       "fare_amount                 float64\n",
       "pickup_datetime      datetime64[ns]\n",
       "pickup_longitude            float64\n",
       "pickup_latitude             float64\n",
       "dropoff_longitude           float64\n",
       "dropoff_latitude            float64\n",
       "passenger_count               int64\n",
       "dtype: object"
      ]
     },
     "execution_count": 2,
     "metadata": {},
     "output_type": "execute_result"
    }
   ],
   "source": [
    "df_raw =  pd.read_csv('C:/Users/Shubham/Desktop/DSF/all/train.csv', nrows=100000, parse_dates=[\"pickup_datetime\"])\n",
    "df_raw.dtypes"
   ]
  },
  {
   "cell_type": "markdown",
   "metadata": {},
   "source": [
    "**Data Cleaning (1)** I Check if any row has null value for any of the columns."
   ]
  },
  {
   "cell_type": "code",
   "execution_count": 3,
   "metadata": {},
   "outputs": [
    {
     "data": {
      "text/plain": [
       "key                  0\n",
       "fare_amount          0\n",
       "pickup_datetime      0\n",
       "pickup_longitude     0\n",
       "pickup_latitude      0\n",
       "dropoff_longitude    0\n",
       "dropoff_latitude     0\n",
       "passenger_count      0\n",
       "dtype: int64"
      ]
     },
     "execution_count": 3,
     "metadata": {},
     "output_type": "execute_result"
    }
   ],
   "source": [
    "df_raw.isnull().sum()"
   ]
  },
  {
   "cell_type": "markdown",
   "metadata": {},
   "source": [
    "I will drop these incomplete records with null values."
   ]
  },
  {
   "cell_type": "code",
   "execution_count": 4,
   "metadata": {},
   "outputs": [
    {
     "name": "stdout",
     "output_type": "stream",
     "text": [
      "Size before: 100000\n",
      "Size after: 100000\n"
     ]
    }
   ],
   "source": [
    "print(\"Size before: %d\" %len(df_raw))\n",
    "df_raw = df_raw.dropna()\n",
    "print(\"Size after: %d\" %len(df_raw))"
   ]
  },
  {
   "cell_type": "markdown",
   "metadata": {},
   "source": [
    "**Data Cleaning (2)** I Check if a row has the value zero for any of the columns."
   ]
  },
  {
   "cell_type": "code",
   "execution_count": 5,
   "metadata": {},
   "outputs": [
    {
     "data": {
      "text/plain": [
       "key                  2367\n",
       "fare_amount          2367\n",
       "pickup_datetime      2367\n",
       "pickup_longitude     2367\n",
       "pickup_latitude      2367\n",
       "dropoff_longitude    2367\n",
       "dropoff_latitude     2367\n",
       "passenger_count      2367\n",
       "dtype: int64"
      ]
     },
     "execution_count": 5,
     "metadata": {},
     "output_type": "execute_result"
    }
   ],
   "source": [
    "df_raw[(df_raw['fare_amount'] == 0) | \n",
    "       (df_raw['pickup_datetime'] == 0) | (df_raw['pickup_longitude'] == 0) | \n",
    "       (df_raw['pickup_latitude'] == 0) | (df_raw['dropoff_longitude'] == 0) | \n",
    "       (df_raw['dropoff_latitude'] == 0) | (df_raw['passenger_count'] == 0)].count()"
   ]
  },
  {
   "cell_type": "markdown",
   "metadata": {},
   "source": [
    "Several rows in the dataset have the value zero in atleast one columns.\n",
    "I will drop these incomplete records."
   ]
  },
  {
   "cell_type": "code",
   "execution_count": 6,
   "metadata": {},
   "outputs": [
    {
     "name": "stdout",
     "output_type": "stream",
     "text": [
      "Size before: 100000\n",
      "Size after: 97633\n"
     ]
    }
   ],
   "source": [
    "print(\"Size before: %d\" %len(df_raw))\n",
    "df_raw = df_raw[(df_raw['fare_amount'] != 0) & \n",
    "       (df_raw['pickup_datetime'] != 0) & (df_raw['pickup_longitude'] != 0) & \n",
    "       (df_raw['pickup_latitude'] != 0) & (df_raw['dropoff_longitude'] != 0) & \n",
    "       (df_raw['dropoff_latitude'] != 0) & (df_raw['passenger_count'] != 0)]\n",
    "print(\"Size after: %d\" %len(df_raw))"
   ]
  },
  {
   "cell_type": "markdown",
   "metadata": {},
   "source": [
    "Let us describe the data set and see if some more outliers can be noticed."
   ]
  },
  {
   "cell_type": "code",
   "execution_count": 7,
   "metadata": {},
   "outputs": [
    {
     "data": {
      "text/html": [
       "<div>\n",
       "<style scoped>\n",
       "    .dataframe tbody tr th:only-of-type {\n",
       "        vertical-align: middle;\n",
       "    }\n",
       "\n",
       "    .dataframe tbody tr th {\n",
       "        vertical-align: top;\n",
       "    }\n",
       "\n",
       "    .dataframe thead th {\n",
       "        text-align: right;\n",
       "    }\n",
       "</style>\n",
       "<table border=\"1\" class=\"dataframe\">\n",
       "  <thead>\n",
       "    <tr style=\"text-align: right;\">\n",
       "      <th></th>\n",
       "      <th>fare_amount</th>\n",
       "      <th>pickup_longitude</th>\n",
       "      <th>pickup_latitude</th>\n",
       "      <th>dropoff_longitude</th>\n",
       "      <th>dropoff_latitude</th>\n",
       "      <th>passenger_count</th>\n",
       "    </tr>\n",
       "  </thead>\n",
       "  <tbody>\n",
       "    <tr>\n",
       "      <th>count</th>\n",
       "      <td>97633.000000</td>\n",
       "      <td>97633.000000</td>\n",
       "      <td>97633.000000</td>\n",
       "      <td>97633.000000</td>\n",
       "      <td>97633.000000</td>\n",
       "      <td>97633.000000</td>\n",
       "    </tr>\n",
       "    <tr>\n",
       "      <th>mean</th>\n",
       "      <td>11.352955</td>\n",
       "      <td>-73.918836</td>\n",
       "      <td>40.695586</td>\n",
       "      <td>-73.906725</td>\n",
       "      <td>40.695698</td>\n",
       "      <td>1.680876</td>\n",
       "    </tr>\n",
       "    <tr>\n",
       "      <th>std</th>\n",
       "      <td>9.699900</td>\n",
       "      <td>3.371528</td>\n",
       "      <td>2.784748</td>\n",
       "      <td>2.677138</td>\n",
       "      <td>2.788889</td>\n",
       "      <td>1.299125</td>\n",
       "    </tr>\n",
       "    <tr>\n",
       "      <th>min</th>\n",
       "      <td>-44.900000</td>\n",
       "      <td>-736.550000</td>\n",
       "      <td>-74.007670</td>\n",
       "      <td>-84.654241</td>\n",
       "      <td>-74.006377</td>\n",
       "      <td>1.000000</td>\n",
       "    </tr>\n",
       "    <tr>\n",
       "      <th>25%</th>\n",
       "      <td>6.000000</td>\n",
       "      <td>-73.992258</td>\n",
       "      <td>40.736592</td>\n",
       "      <td>-73.991390</td>\n",
       "      <td>40.735693</td>\n",
       "      <td>1.000000</td>\n",
       "    </tr>\n",
       "    <tr>\n",
       "      <th>50%</th>\n",
       "      <td>8.500000</td>\n",
       "      <td>-73.982065</td>\n",
       "      <td>40.753507</td>\n",
       "      <td>-73.980426</td>\n",
       "      <td>40.753943</td>\n",
       "      <td>1.000000</td>\n",
       "    </tr>\n",
       "    <tr>\n",
       "      <th>75%</th>\n",
       "      <td>12.500000</td>\n",
       "      <td>-73.968250</td>\n",
       "      <td>40.767668</td>\n",
       "      <td>-73.965067</td>\n",
       "      <td>40.768467</td>\n",
       "      <td>2.000000</td>\n",
       "    </tr>\n",
       "    <tr>\n",
       "      <th>max</th>\n",
       "      <td>200.000000</td>\n",
       "      <td>40.787575</td>\n",
       "      <td>401.083332</td>\n",
       "      <td>40.851027</td>\n",
       "      <td>404.616667</td>\n",
       "      <td>6.000000</td>\n",
       "    </tr>\n",
       "  </tbody>\n",
       "</table>\n",
       "</div>"
      ],
      "text/plain": [
       "        fare_amount  pickup_longitude  pickup_latitude  dropoff_longitude  \\\n",
       "count  97633.000000      97633.000000     97633.000000       97633.000000   \n",
       "mean      11.352955        -73.918836        40.695586         -73.906725   \n",
       "std        9.699900          3.371528         2.784748           2.677138   \n",
       "min      -44.900000       -736.550000       -74.007670         -84.654241   \n",
       "25%        6.000000        -73.992258        40.736592         -73.991390   \n",
       "50%        8.500000        -73.982065        40.753507         -73.980426   \n",
       "75%       12.500000        -73.968250        40.767668         -73.965067   \n",
       "max      200.000000         40.787575       401.083332          40.851027   \n",
       "\n",
       "       dropoff_latitude  passenger_count  \n",
       "count      97633.000000     97633.000000  \n",
       "mean          40.695698         1.680876  \n",
       "std            2.788889         1.299125  \n",
       "min          -74.006377         1.000000  \n",
       "25%           40.735693         1.000000  \n",
       "50%           40.753943         1.000000  \n",
       "75%           40.768467         2.000000  \n",
       "max          404.616667         6.000000  "
      ]
     },
     "execution_count": 7,
     "metadata": {},
     "output_type": "execute_result"
    }
   ],
   "source": [
    "df_raw.describe()"
   ]
  },
  {
   "cell_type": "markdown",
   "metadata": {},
   "source": [
    "**Data Cleaning:**\n",
    "    <br><br>(3) The fare_amount has some negative values, these must be incorrect.  drop them.\n",
    "    <br>(4) Some coordinates are too much away from the coordinate limit of New York City.\n",
    "    <br><br>I will define reasonable limits for Longitudes and Latitudes, removing all outliers beyond the limit."
   ]
  },
  {
   "cell_type": "code",
   "execution_count": 8,
   "metadata": {},
   "outputs": [
    {
     "name": "stdout",
     "output_type": "stream",
     "text": [
      "Size before: 97633\n",
      "Size after: 97625\n"
     ]
    }
   ],
   "source": [
    "print(\"Size before: %d\" %len(df_raw))\n",
    "df_raw = df_raw[(df_raw['fare_amount'] > 0)]\n",
    "print(\"Size after: %d\" %len(df_raw))"
   ]
  },
  {
   "cell_type": "markdown",
   "metadata": {},
   "source": [
    "In order to remove outliers based on coordinates, I check if it is possible to define a limit based on our test data."
   ]
  },
  {
   "cell_type": "code",
   "execution_count": 9,
   "metadata": {},
   "outputs": [
    {
     "data": {
      "text/plain": [
       "key                          object\n",
       "pickup_datetime      datetime64[ns]\n",
       "pickup_longitude            float64\n",
       "pickup_latitude             float64\n",
       "dropoff_longitude           float64\n",
       "dropoff_latitude            float64\n",
       "passenger_count               int64\n",
       "dtype: object"
      ]
     },
     "execution_count": 9,
     "metadata": {},
     "output_type": "execute_result"
    }
   ],
   "source": [
    "df_test =  pd.read_csv('C:/Users/Shubham/Desktop/DSF/all/test.csv', parse_dates=[\"pickup_datetime\"])\n",
    "df_test.dtypes"
   ]
  },
  {
   "cell_type": "code",
   "execution_count": 10,
   "metadata": {},
   "outputs": [
    {
     "data": {
      "text/html": [
       "<div>\n",
       "<style scoped>\n",
       "    .dataframe tbody tr th:only-of-type {\n",
       "        vertical-align: middle;\n",
       "    }\n",
       "\n",
       "    .dataframe tbody tr th {\n",
       "        vertical-align: top;\n",
       "    }\n",
       "\n",
       "    .dataframe thead th {\n",
       "        text-align: right;\n",
       "    }\n",
       "</style>\n",
       "<table border=\"1\" class=\"dataframe\">\n",
       "  <thead>\n",
       "    <tr style=\"text-align: right;\">\n",
       "      <th></th>\n",
       "      <th>pickup_longitude</th>\n",
       "      <th>pickup_latitude</th>\n",
       "      <th>dropoff_longitude</th>\n",
       "      <th>dropoff_latitude</th>\n",
       "      <th>passenger_count</th>\n",
       "    </tr>\n",
       "  </thead>\n",
       "  <tbody>\n",
       "    <tr>\n",
       "      <th>count</th>\n",
       "      <td>9914.000000</td>\n",
       "      <td>9914.000000</td>\n",
       "      <td>9914.000000</td>\n",
       "      <td>9914.000000</td>\n",
       "      <td>9914.000000</td>\n",
       "    </tr>\n",
       "    <tr>\n",
       "      <th>mean</th>\n",
       "      <td>-73.974722</td>\n",
       "      <td>40.751041</td>\n",
       "      <td>-73.973657</td>\n",
       "      <td>40.751743</td>\n",
       "      <td>1.671273</td>\n",
       "    </tr>\n",
       "    <tr>\n",
       "      <th>std</th>\n",
       "      <td>0.042774</td>\n",
       "      <td>0.033541</td>\n",
       "      <td>0.039072</td>\n",
       "      <td>0.035435</td>\n",
       "      <td>1.278747</td>\n",
       "    </tr>\n",
       "    <tr>\n",
       "      <th>min</th>\n",
       "      <td>-74.252193</td>\n",
       "      <td>40.573143</td>\n",
       "      <td>-74.263242</td>\n",
       "      <td>40.568973</td>\n",
       "      <td>1.000000</td>\n",
       "    </tr>\n",
       "    <tr>\n",
       "      <th>25%</th>\n",
       "      <td>-73.992501</td>\n",
       "      <td>40.736125</td>\n",
       "      <td>-73.991247</td>\n",
       "      <td>40.735254</td>\n",
       "      <td>1.000000</td>\n",
       "    </tr>\n",
       "    <tr>\n",
       "      <th>50%</th>\n",
       "      <td>-73.982326</td>\n",
       "      <td>40.753051</td>\n",
       "      <td>-73.980015</td>\n",
       "      <td>40.754065</td>\n",
       "      <td>1.000000</td>\n",
       "    </tr>\n",
       "    <tr>\n",
       "      <th>75%</th>\n",
       "      <td>-73.968013</td>\n",
       "      <td>40.767113</td>\n",
       "      <td>-73.964059</td>\n",
       "      <td>40.768757</td>\n",
       "      <td>2.000000</td>\n",
       "    </tr>\n",
       "    <tr>\n",
       "      <th>max</th>\n",
       "      <td>-72.986532</td>\n",
       "      <td>41.709555</td>\n",
       "      <td>-72.990963</td>\n",
       "      <td>41.696683</td>\n",
       "      <td>6.000000</td>\n",
       "    </tr>\n",
       "  </tbody>\n",
       "</table>\n",
       "</div>"
      ],
      "text/plain": [
       "       pickup_longitude  pickup_latitude  dropoff_longitude  dropoff_latitude  \\\n",
       "count       9914.000000      9914.000000        9914.000000       9914.000000   \n",
       "mean         -73.974722        40.751041         -73.973657         40.751743   \n",
       "std            0.042774         0.033541           0.039072          0.035435   \n",
       "min          -74.252193        40.573143         -74.263242         40.568973   \n",
       "25%          -73.992501        40.736125         -73.991247         40.735254   \n",
       "50%          -73.982326        40.753051         -73.980015         40.754065   \n",
       "75%          -73.968013        40.767113         -73.964059         40.768757   \n",
       "max          -72.986532        41.709555         -72.990963         41.696683   \n",
       "\n",
       "       passenger_count  \n",
       "count      9914.000000  \n",
       "mean          1.671273  \n",
       "std           1.278747  \n",
       "min           1.000000  \n",
       "25%           1.000000  \n",
       "50%           1.000000  \n",
       "75%           2.000000  \n",
       "max           6.000000  "
      ]
     },
     "execution_count": 10,
     "metadata": {},
     "output_type": "execute_result"
    }
   ],
   "source": [
    "df_test.describe()"
   ]
  },
  {
   "cell_type": "markdown",
   "metadata": {},
   "source": [
    "The longititude and latitude column seem to be reasonably within the range of New York City.\n",
    "I will define a limit for coordinates of our training data based on above tabel\n",
    "and remove any records that do not confirm with this range."
   ]
  },
  {
   "cell_type": "code",
   "execution_count": 11,
   "metadata": {},
   "outputs": [
    {
     "name": "stdout",
     "output_type": "stream",
     "text": [
      "Size before: 97625\n",
      "Size after: 97479\n"
     ]
    }
   ],
   "source": [
    "#Range of coordinates\n",
    "minimum_longitude = -74.263242\n",
    "maximum_longitude = -72.986532\n",
    "minimum_latitude = 40.568973\n",
    "maximum_latitude = 41.709555\n",
    "\n",
    "print(\"Size before: %d\" %len(df_raw))\n",
    "df_raw = df_raw[(df_raw.pickup_longitude >= minimum_longitude) & (df_raw.pickup_longitude <= maximum_longitude) &\n",
    "           (df_raw.pickup_latitude >= minimum_latitude) & (df_raw.pickup_latitude <= maximum_latitude) &\n",
    "           (df_raw.dropoff_longitude >= minimum_longitude) & (df_raw.dropoff_longitude <= maximum_longitude) &\n",
    "           (df_raw.dropoff_latitude >= minimum_latitude) & (df_raw.dropoff_latitude <= maximum_latitude)]\n",
    "print(\"Size after: %d\" %len(df_raw))"
   ]
  },
  {
   "cell_type": "markdown",
   "metadata": {},
   "source": [
    "**Data Cleaning :** \n",
    "(5) As per the official site of New York Taxi and Limousine Commision,\n",
    "the maximum number of passengers allowed in a cab is 5, with an exception to allow one extra child passenger.\n",
    "(Source-http://www.nyc.gov/html/tlc/html/faq/faq_pass.shtml)\n",
    "    I am going to drop any rides which involved more than 6 passengers."
   ]
  },
  {
   "cell_type": "code",
   "execution_count": 12,
   "metadata": {},
   "outputs": [
    {
     "name": "stdout",
     "output_type": "stream",
     "text": [
      "Size before: 97479\n",
      "Size after: 97479\n"
     ]
    }
   ],
   "source": [
    "print(\"Size before: %d\" %len(df_raw))\n",
    "df_raw = df_raw[(df_raw.passenger_count <= 6)]\n",
    "print(\"Size after: %d\" %len(df_raw))"
   ]
  },
  {
   "cell_type": "code",
   "execution_count": 13,
   "metadata": {},
   "outputs": [],
   "source": [
    "#In order to calculate euclidean distance between our coordinates, I am going to define a function\n",
    "#This Function will take the GPS coordinates, convert them to UTM coordinates using PyPi library\n",
    "#The UTM coordinates will be used to calculate euclidean distance using SciPy library.\n",
    "#I have referenced the following threads for this part\n",
    "#https://gis.stackexchange.com/questions/58530/find-euclidean-distance-in-gps\n",
    "#https://math.stackexchange.com/questions/738529/distance-between-two-points-in-utm-coordinates\n",
    "\n",
    "import utm\n",
    "from scipy.spatial import distance\n",
    "\n",
    "def euclidean_distance(row):\n",
    "    utm1 = utm.from_latlon(row.pickup_latitude, row.pickup_longitude)\n",
    "    utm2 = utm.from_latlon(row.dropoff_latitude, row.dropoff_longitude)\n",
    "    distance_meters = distance.euclidean((utm1[0], utm1[1]),(utm2[0], utm2[1]))\n",
    "    distance_miles = (distance_meters/1000)*0.621371\n",
    "    return distance_miles"
   ]
  },
  {
   "cell_type": "code",
   "execution_count": 14,
   "metadata": {},
   "outputs": [],
   "source": [
    "#Creating a new column that contains euclidean distance for rides\n",
    "df_raw['euclidean_distance'] = df_raw.apply(euclidean_distance, axis=1)"
   ]
  },
  {
   "cell_type": "code",
   "execution_count": 15,
   "metadata": {},
   "outputs": [],
   "source": [
    "#Creating a new column that contains hour of day of the pickup for rides\n",
    "df_raw['pickup_hour'] = df_raw.pickup_datetime.apply(lambda t: t.hour)"
   ]
  },
  {
   "cell_type": "code",
   "execution_count": 16,
   "metadata": {},
   "outputs": [],
   "source": [
    "#Creating a new column that contains hour of day of the pickup for rides\n",
    "df_raw['pickup_day'] = df_raw.pickup_datetime.apply(lambda t: t.weekday())"
   ]
  },
  {
   "cell_type": "markdown",
   "metadata": {},
   "source": [
    "**Task 2** (a) Pearson Correlation between Euclidean distance of the ride and the taxi fare."
   ]
  },
  {
   "cell_type": "code",
   "execution_count": 17,
   "metadata": {},
   "outputs": [
    {
     "data": {
      "text/plain": [
       "0.8029763618387057"
      ]
     },
     "execution_count": 17,
     "metadata": {},
     "output_type": "execute_result"
    }
   ],
   "source": [
    "df_raw['euclidean_distance'].corr(df_raw['fare_amount'])"
   ]
  },
  {
   "cell_type": "markdown",
   "metadata": {},
   "source": [
    "**Task 2** (b) Pearson Correlation between time of day and distance traveled."
   ]
  },
  {
   "cell_type": "code",
   "execution_count": 18,
   "metadata": {},
   "outputs": [
    {
     "data": {
      "text/plain": [
       "-0.030027235771374845"
      ]
     },
     "execution_count": 18,
     "metadata": {},
     "output_type": "execute_result"
    }
   ],
   "source": [
    "df_raw['pickup_hour'].corr(df_raw['euclidean_distance'])"
   ]
  },
  {
   "cell_type": "markdown",
   "metadata": {},
   "source": [
    "**Task 2** (c) Pearson Correlation between time of day and the taxi fare."
   ]
  },
  {
   "cell_type": "code",
   "execution_count": 19,
   "metadata": {},
   "outputs": [
    {
     "data": {
      "text/plain": [
       "-0.018571032033882048"
      ]
     },
     "execution_count": 19,
     "metadata": {},
     "output_type": "execute_result"
    }
   ],
   "source": [
    "df_raw['pickup_hour'].corr(df_raw['fare_amount'])"
   ]
  },
  {
   "cell_type": "markdown",
   "metadata": {},
   "source": [
    "The Euclidean distance and taxi fare show highest correlation amongst all the three pairs. There is a very strong correlation between distance and fare, which makes sense as we know that distance is one of the factors used in fare calculation. On the other hand, time of day does not seem to be correlated either with distance traveled or with taxi fare, at least at this point."
   ]
  },
  {
   "cell_type": "markdown",
   "metadata": {},
   "source": [
    "**Task 3** (a) Plot between Euclidean distance of the ride and the taxi fare."
   ]
  },
  {
   "cell_type": "code",
   "execution_count": 20,
   "metadata": {},
   "outputs": [
    {
     "data": {
      "text/plain": [
       "<seaborn.axisgrid.FacetGrid at 0x160ca0a01d0>"
      ]
     },
     "execution_count": 20,
     "metadata": {},
     "output_type": "execute_result"
    },
    {
     "data": {
      "image/png": "[encoded data removed]",
      "text/plain": [
       "<Figure size 360x360 with 1 Axes>"
      ]
     },
     "metadata": {},
     "output_type": "display_data"
    }
   ],
   "source": [
    "sns.lmplot(x='fare_amount', y='euclidean_distance', data=df_raw)"
   ]
  },
  {
   "cell_type": "markdown",
   "metadata": {},
   "source": [
    "A linear relationship can be seen in the plot above for most of the data. There seem to be some outliers such as trips of zero distance but very high fares and trips of very long distances with zero fare. These trips are justifiable by some logics such as trips starting and ending at same points, but such trip details won't help our model. So I am going to drop them later. "
   ]
  },
  {
   "cell_type": "markdown",
   "metadata": {},
   "source": [
    "**Task 3** (b) Plot between time of day and distance traveled."
   ]
  },
  {
   "cell_type": "code",
   "execution_count": 21,
   "metadata": {},
   "outputs": [
    {
     "data": {
      "image/png": "[encoded data removed]",
      "text/plain": [
       "<Figure size 1008x432 with 1 Axes>"
      ]
     },
     "metadata": {},
     "output_type": "display_data"
    }
   ],
   "source": [
    "df_raw.pivot_table('euclidean_distance', index='pickup_hour').plot(figsize=(14,6))\n",
    "matplotlib.pyplot.ylabel('Distance Traveled');"
   ]
  },
  {
   "cell_type": "markdown",
   "metadata": {},
   "source": [
    "No useful relationship could be seen in the above plot, which was expected given the small correlation between the two "
   ]
  },
  {
   "cell_type": "markdown",
   "metadata": {},
   "source": [
    "**Task 3** (c) Plot between time of day and the taxi fare."
   ]
  },
  {
   "cell_type": "code",
   "execution_count": 22,
   "metadata": {},
   "outputs": [
    {
     "data": {
      "image/png": "[encoded data removed]",
      "text/plain": [
       "<Figure size 1008x432 with 1 Axes>"
      ]
     },
     "metadata": {},
     "output_type": "display_data"
    }
   ],
   "source": [
    "df_raw.pivot_table('fare_amount', index='pickup_hour').plot(figsize=(14,6))\n",
    "matplotlib.pyplot.ylabel('Fare Amount');"
   ]
  },
  {
   "cell_type": "markdown",
   "metadata": {},
   "source": [
    "Again, no useful relationship could be seen in the plot at this point."
   ]
  },
  {
   "cell_type": "markdown",
   "metadata": {},
   "source": [
    "Looking at the correlation table for our data, we see that there no other strong correlations."
   ]
  },
  {
   "cell_type": "code",
   "execution_count": 23,
   "metadata": {},
   "outputs": [
    {
     "data": {
      "text/html": [
       "<div>\n",
       "<style scoped>\n",
       "    .dataframe tbody tr th:only-of-type {\n",
       "        vertical-align: middle;\n",
       "    }\n",
       "\n",
       "    .dataframe tbody tr th {\n",
       "        vertical-align: top;\n",
       "    }\n",
       "\n",
       "    .dataframe thead th {\n",
       "        text-align: right;\n",
       "    }\n",
       "</style>\n",
       "<table border=\"1\" class=\"dataframe\">\n",
       "  <thead>\n",
       "    <tr style=\"text-align: right;\">\n",
       "      <th></th>\n",
       "      <th>fare_amount</th>\n",
       "      <th>pickup_longitude</th>\n",
       "      <th>pickup_latitude</th>\n",
       "      <th>dropoff_longitude</th>\n",
       "      <th>dropoff_latitude</th>\n",
       "      <th>passenger_count</th>\n",
       "      <th>euclidean_distance</th>\n",
       "      <th>pickup_hour</th>\n",
       "      <th>pickup_day</th>\n",
       "    </tr>\n",
       "  </thead>\n",
       "  <tbody>\n",
       "    <tr>\n",
       "      <th>fare_amount</th>\n",
       "      <td>1.000000</td>\n",
       "      <td>0.392661</td>\n",
       "      <td>-0.178927</td>\n",
       "      <td>0.314397</td>\n",
       "      <td>-0.149553</td>\n",
       "      <td>0.015129</td>\n",
       "      <td>0.802976</td>\n",
       "      <td>-0.018571</td>\n",
       "      <td>0.000469</td>\n",
       "    </tr>\n",
       "    <tr>\n",
       "      <th>pickup_longitude</th>\n",
       "      <td>0.392661</td>\n",
       "      <td>1.000000</td>\n",
       "      <td>0.142855</td>\n",
       "      <td>0.391045</td>\n",
       "      <td>0.136672</td>\n",
       "      <td>0.000226</td>\n",
       "      <td>0.436397</td>\n",
       "      <td>0.021609</td>\n",
       "      <td>-0.026959</td>\n",
       "    </tr>\n",
       "    <tr>\n",
       "      <th>pickup_latitude</th>\n",
       "      <td>-0.178927</td>\n",
       "      <td>0.142855</td>\n",
       "      <td>1.000000</td>\n",
       "      <td>0.154392</td>\n",
       "      <td>0.472296</td>\n",
       "      <td>-0.003093</td>\n",
       "      <td>-0.123660</td>\n",
       "      <td>0.027745</td>\n",
       "      <td>-0.038696</td>\n",
       "    </tr>\n",
       "    <tr>\n",
       "      <th>dropoff_longitude</th>\n",
       "      <td>0.314397</td>\n",
       "      <td>0.391045</td>\n",
       "      <td>0.154392</td>\n",
       "      <td>1.000000</td>\n",
       "      <td>0.233330</td>\n",
       "      <td>-0.003693</td>\n",
       "      <td>0.343204</td>\n",
       "      <td>-0.038361</td>\n",
       "      <td>-0.006548</td>\n",
       "    </tr>\n",
       "    <tr>\n",
       "      <th>dropoff_latitude</th>\n",
       "      <td>-0.149553</td>\n",
       "      <td>0.136672</td>\n",
       "      <td>0.472296</td>\n",
       "      <td>0.233330</td>\n",
       "      <td>1.000000</td>\n",
       "      <td>-0.003697</td>\n",
       "      <td>-0.110119</td>\n",
       "      <td>0.017224</td>\n",
       "      <td>-0.025072</td>\n",
       "    </tr>\n",
       "    <tr>\n",
       "      <th>passenger_count</th>\n",
       "      <td>0.015129</td>\n",
       "      <td>0.000226</td>\n",
       "      <td>-0.003093</td>\n",
       "      <td>-0.003693</td>\n",
       "      <td>-0.003697</td>\n",
       "      <td>1.000000</td>\n",
       "      <td>0.011933</td>\n",
       "      <td>0.016336</td>\n",
       "      <td>0.036837</td>\n",
       "    </tr>\n",
       "    <tr>\n",
       "      <th>euclidean_distance</th>\n",
       "      <td>0.802976</td>\n",
       "      <td>0.436397</td>\n",
       "      <td>-0.123660</td>\n",
       "      <td>0.343204</td>\n",
       "      <td>-0.110119</td>\n",
       "      <td>0.011933</td>\n",
       "      <td>1.000000</td>\n",
       "      <td>-0.030027</td>\n",
       "      <td>0.011847</td>\n",
       "    </tr>\n",
       "    <tr>\n",
       "      <th>pickup_hour</th>\n",
       "      <td>-0.018571</td>\n",
       "      <td>0.021609</td>\n",
       "      <td>0.027745</td>\n",
       "      <td>-0.038361</td>\n",
       "      <td>0.017224</td>\n",
       "      <td>0.016336</td>\n",
       "      <td>-0.030027</td>\n",
       "      <td>1.000000</td>\n",
       "      <td>-0.087166</td>\n",
       "    </tr>\n",
       "    <tr>\n",
       "      <th>pickup_day</th>\n",
       "      <td>0.000469</td>\n",
       "      <td>-0.026959</td>\n",
       "      <td>-0.038696</td>\n",
       "      <td>-0.006548</td>\n",
       "      <td>-0.025072</td>\n",
       "      <td>0.036837</td>\n",
       "      <td>0.011847</td>\n",
       "      <td>-0.087166</td>\n",
       "      <td>1.000000</td>\n",
       "    </tr>\n",
       "  </tbody>\n",
       "</table>\n",
       "</div>"
      ],
      "text/plain": [
       "                    fare_amount  pickup_longitude  pickup_latitude  \\\n",
       "fare_amount            1.000000          0.392661        -0.178927   \n",
       "pickup_longitude       0.392661          1.000000         0.142855   \n",
       "pickup_latitude       -0.178927          0.142855         1.000000   \n",
       "dropoff_longitude      0.314397          0.391045         0.154392   \n",
       "dropoff_latitude      -0.149553          0.136672         0.472296   \n",
       "passenger_count        0.015129          0.000226        -0.003093   \n",
       "euclidean_distance     0.802976          0.436397        -0.123660   \n",
       "pickup_hour           -0.018571          0.021609         0.027745   \n",
       "pickup_day             0.000469         -0.026959        -0.038696   \n",
       "\n",
       "                    dropoff_longitude  dropoff_latitude  passenger_count  \\\n",
       "fare_amount                  0.314397         -0.149553         0.015129   \n",
       "pickup_longitude             0.391045          0.136672         0.000226   \n",
       "pickup_latitude              0.154392          0.472296        -0.003093   \n",
       "dropoff_longitude            1.000000          0.233330        -0.003693   \n",
       "dropoff_latitude             0.233330          1.000000        -0.003697   \n",
       "passenger_count             -0.003693         -0.003697         1.000000   \n",
       "euclidean_distance           0.343204         -0.110119         0.011933   \n",
       "pickup_hour                 -0.038361          0.017224         0.016336   \n",
       "pickup_day                  -0.006548         -0.025072         0.036837   \n",
       "\n",
       "                    euclidean_distance  pickup_hour  pickup_day  \n",
       "fare_amount                   0.802976    -0.018571    0.000469  \n",
       "pickup_longitude              0.436397     0.021609   -0.026959  \n",
       "pickup_latitude              -0.123660     0.027745   -0.038696  \n",
       "dropoff_longitude             0.343204    -0.038361   -0.006548  \n",
       "dropoff_latitude             -0.110119     0.017224   -0.025072  \n",
       "passenger_count               0.011933     0.016336    0.036837  \n",
       "euclidean_distance            1.000000    -0.030027    0.011847  \n",
       "pickup_hour                  -0.030027     1.000000   -0.087166  \n",
       "pickup_day                    0.011847    -0.087166    1.000000  "
      ]
     },
     "execution_count": 23,
     "metadata": {},
     "output_type": "execute_result"
    }
   ],
   "source": [
    "df_raw.corr(method='pearson')"
   ]
  },
  {
   "cell_type": "markdown",
   "metadata": {},
   "source": [
    "**Data Cleaning** Let's drop the outliers that we saw in Task 3 plot (a)"
   ]
  },
  {
   "cell_type": "code",
   "execution_count": 24,
   "metadata": {},
   "outputs": [
    {
     "name": "stdout",
     "output_type": "stream",
     "text": [
      "Size before: 97479\n",
      "Size after: 96412\n"
     ]
    }
   ],
   "source": [
    "#Dropping trips with zero euclidean distance\n",
    "print(\"Size before: %d\" %len(df_raw))\n",
    "df_raw = df_raw[(df_raw.euclidean_distance > 0)]\n",
    "print(\"Size after: %d\" %len(df_raw))"
   ]
  },
  {
   "cell_type": "markdown",
   "metadata": {},
   "source": [
    "We know that the taxi meter starts with an initial charge of 2.5<span>$</span> and adds 50 cents for each 1/5 mile. By that logic a 25 mile trip will cost atleast 65<span>$</span>. But these are the present rates. The data we have is old, so we have to factor that as well. Interestingly, the rates haven't changed many times.There is was a good 7 years gap between the hike in 2005 and 2012. We don't have data before 2005. To be on the safe side we will consider rates before 2012. Before 2012 the taxi meter started with an initial charge of 2<span>$</span> and added 30 cents for each 1/5 mile. By that logic a 25 mile trip will cost atleast 39.5<span>$</span>.I am going to drop any trip longer than 25 miles with a fare less than 39.5<span>$</span>. Also every trip has to be of atleast 2<span>$</span>, if not I drop them as well."
   ]
  },
  {
   "cell_type": "code",
   "execution_count": 25,
   "metadata": {},
   "outputs": [
    {
     "name": "stdout",
     "output_type": "stream",
     "text": [
      "Size before: 96412\n",
      "Size after: 96410\n"
     ]
    }
   ],
   "source": [
    "#Dropping trips with fare below 2$\n",
    "print(\"Size before: %d\" %len(df_raw))\n",
    "df_raw = df_raw[(df_raw.fare_amount >= 2)]\n",
    "print(\"Size after: %d\" %len(df_raw))"
   ]
  },
  {
   "cell_type": "code",
   "execution_count": 26,
   "metadata": {},
   "outputs": [
    {
     "name": "stdout",
     "output_type": "stream",
     "text": [
      "Size before: 96410\n",
      "Size after: 96394\n"
     ]
    }
   ],
   "source": [
    "#Dropping trips longer than 25 miles with a fare less than 39.5$\n",
    "print(\"Size before: %d\" %len(df_raw))\n",
    "df_raw = df_raw.drop(df_raw[(df_raw.euclidean_distance >=25) & (df_raw.fare_amount <= 39.5)].index)\n",
    "print(\"Size after: %d\" %len(df_raw))"
   ]
  },
  {
   "cell_type": "markdown",
   "metadata": {},
   "source": [
    "**Task (4) & (5)** Let us create some new features from the existing data and see if any of these can be useful for our model."
   ]
  },
  {
   "cell_type": "code",
   "execution_count": 27,
   "metadata": {},
   "outputs": [],
   "source": [
    "#Creating a new column that contains year of the pickup for rides\n",
    "df_raw['pickup_year'] = df_raw.pickup_datetime.apply(lambda t: t.year)"
   ]
  },
  {
   "cell_type": "markdown",
   "metadata": {},
   "source": [
    "As mentioned already the taxi rates have increased sometimes over the years. So it will make sense if the year of the trip becomes one of the features of our model."
   ]
  },
  {
   "cell_type": "code",
   "execution_count": 28,
   "metadata": {},
   "outputs": [],
   "source": [
    "#Creating a new column that contains fare per mile for rides\n",
    "df_raw['fare_per_mile'] = df_raw.fare_amount / df_raw.euclidean_distance"
   ]
  },
  {
   "cell_type": "markdown",
   "metadata": {},
   "source": [
    "Let us plot the per mile fares against hours of a day, for each year in our data set."
   ]
  },
  {
   "cell_type": "code",
   "execution_count": 29,
   "metadata": {},
   "outputs": [
    {
     "data": {
      "image/png": "[encoded data removed]",
      "text/plain": [
       "<Figure size 1152x432 with 1 Axes>"
      ]
     },
     "metadata": {},
     "output_type": "display_data"
    }
   ],
   "source": [
    "df_raw.pivot_table('fare_per_mile', index='pickup_hour', columns='pickup_year').plot(figsize=(16,6))\n",
    "matplotlib.pyplot.ylabel('Fare Per Mile (USD)');"
   ]
  },
  {
   "cell_type": "markdown",
   "metadata": {},
   "source": [
    "The plot reveals that some trips have unrealistic per mile rates. This may have been caused due to the trips which are less than 1 mile.\n",
    "Let us set those trip aside for a while."
   ]
  },
  {
   "cell_type": "code",
   "execution_count": 30,
   "metadata": {},
   "outputs": [
    {
     "name": "stdout",
     "output_type": "stream",
     "text": [
      "Size before: 96394\n",
      "Size after: 62488\n"
     ]
    }
   ],
   "source": [
    "#Dropping trips shorter than one mile$\n",
    "print(\"Size before: %d\" %len(df_raw))\n",
    "df_for_plotting = df_raw[(df_raw.euclidean_distance > 1)]\n",
    "print(\"Size after: %d\" %len(df_for_plotting))"
   ]
  },
  {
   "cell_type": "markdown",
   "metadata": {},
   "source": [
    "Let us plot again with this new data set."
   ]
  },
  {
   "cell_type": "code",
   "execution_count": 31,
   "metadata": {},
   "outputs": [
    {
     "data": {
      "image/png": "[encoded data removed]",
      "text/plain": [
       "<Figure size 1008x432 with 1 Axes>"
      ]
     },
     "metadata": {},
     "output_type": "display_data"
    }
   ],
   "source": [
    "df_for_plotting.pivot_table('fare_per_mile', index='pickup_hour', columns='pickup_year').plot(figsize=(14,6))\n",
    "matplotlib.pyplot.ylabel('Fare Per Mile (USD)');"
   ]
  },
  {
   "cell_type": "markdown",
   "metadata": {},
   "source": [
    "As we can see, there are 3 noticeable group of lines. Each group indicates the years through which the taxi rates might have been the same. Thus depending on the year, different rates apply for trips. So year is going to be one of the feature of our model."
   ]
  },
  {
   "cell_type": "markdown",
   "metadata": {},
   "source": [
    "**Task (6)** Now let us create a simple linear regression model using our two features, eulicdean_distance and pickup_year."
   ]
  },
  {
   "cell_type": "markdown",
   "metadata": {},
   "source": [
    "Defining features of our model."
   ]
  },
  {
   "cell_type": "code",
   "execution_count": 33,
   "metadata": {},
   "outputs": [
    {
     "data": {
      "text/plain": [
       "((96394, 2), (96394,))"
      ]
     },
     "execution_count": 33,
     "metadata": {},
     "output_type": "execute_result"
    }
   ],
   "source": [
    "lr = LinearRegression()\n",
    "matrix = np.matrix(df_raw)\n",
    "X = df_raw[['euclidean_distance', 'pickup_year']].values;\n",
    "y = df_raw['fare_amount'].values;\n",
    "\n",
    "X.shape, y.shape"
   ]
  },
  {
   "cell_type": "markdown",
   "metadata": {},
   "source": [
    "Let us split the training data and generate the model. Also print the coeficients and intercept."
   ]
  },
  {
   "cell_type": "code",
   "execution_count": 34,
   "metadata": {},
   "outputs": [
    {
     "data": {
      "text/plain": [
       "(array([3.62012333, 0.51515227]), -1032.5826956524668)"
      ]
     },
     "execution_count": 34,
     "metadata": {},
     "output_type": "execute_result"
    }
   ],
   "source": [
    "X_train, X_test, y_train, y_test = train_test_split(X, y, test_size=0.25)\n",
    "model = lr.fit(X_train, y_train)\n",
    "model.coef_, model.intercept_"
   ]
  },
  {
   "cell_type": "markdown",
   "metadata": {},
   "source": [
    "Finding the RMSE of our model."
   ]
  },
  {
   "cell_type": "code",
   "execution_count": 35,
   "metadata": {},
   "outputs": [
    {
     "name": "stdout",
     "output_type": "stream",
     "text": [
      "Below is the RMSE for Linear model\n"
     ]
    },
    {
     "data": {
      "text/plain": [
       "4.635143930541522"
      ]
     },
     "execution_count": 35,
     "metadata": {},
     "output_type": "execute_result"
    }
   ],
   "source": [
    "y_pred = model.predict(X_test)\n",
    "print('Below is the RMSE for Linear model')\n",
    "sqrt(mean_squared_error(y_test, y_pred))"
   ]
  },
  {
   "cell_type": "code",
   "execution_count": 36,
   "metadata": {},
   "outputs": [
    {
     "name": "stdout",
     "output_type": "stream",
     "text": [
      "Below are the coeficients for Linear model\n"
     ]
    },
    {
     "data": {
      "text/plain": [
       "(array([3.65013395, 0.51449788]), -1031.316761562315)"
      ]
     },
     "execution_count": 36,
     "metadata": {},
     "output_type": "execute_result"
    }
   ],
   "source": [
    "model = lr.fit(X, y)\n",
    "print('Below are the coeficients for Linear model')\n",
    "model.coef_, model.intercept_"
   ]
  },
  {
   "cell_type": "markdown",
   "metadata": {},
   "source": [
    "Preparing our test data."
   ]
  },
  {
   "cell_type": "code",
   "execution_count": 38,
   "metadata": {},
   "outputs": [],
   "source": [
    "#I have preprocessed the test data and generated the trip distance values using google distance matrix api.\n",
    "df_test =  pd.read_csv('C:/Users/Shubham/Desktop/test_google.csv', parse_dates=[\"pickup_datetime\"])"
   ]
  },
  {
   "cell_type": "code",
   "execution_count": 39,
   "metadata": {},
   "outputs": [],
   "source": [
    "#Creating a new column that contains euclidean distance for rides\n",
    "df_test['euclidean_distance'] = df_test.apply(euclidean_distance, axis=1)\n",
    "\n",
    "#Creating a new column that contains year of the pickup for rides\n",
    "df_test['pickup_year'] = df_test.pickup_datetime.apply(lambda t: t.year)"
   ]
  },
  {
   "cell_type": "code",
   "execution_count": 40,
   "metadata": {},
   "outputs": [],
   "source": [
    "matrix = np.matrix(df_raw)\n",
    "X = df_test[['euclidean_distance', 'pickup_year']].values;\n",
    "\n",
    "y_pred = model.predict(X)"
   ]
  },
  {
   "cell_type": "markdown",
   "metadata": {},
   "source": [
    "Saving the output."
   ]
  },
  {
   "cell_type": "code",
   "execution_count": 41,
   "metadata": {},
   "outputs": [],
   "source": [
    "y_pred = model.predict(X)\n",
    "output = pd.DataFrame(\n",
    "    {'key': df_test.key, 'fare_amount': y_pred},\n",
    "    columns = ['key', 'fare_amount'])\n",
    "output.to_csv('C:/Users/Shubham/Desktop/submission_linear_3M.csv', index = False)"
   ]
  },
  {
   "cell_type": "markdown",
   "metadata": {},
   "source": [
    "**Task 7** There are several data sets available on the internet related to the New York Taxi. Below is the list of some of them.\n",
    "    <br>(1) 2017 Yellow Taxi Trip Data - Source: NYC Open data, This dataset includes trip records from all trips completed in yellow taxis from in NYC during 2017.\n",
    "    <br>(2) Hourly weather data for the New York City Taxi Trip Duration Challenge - Source:Kaggle\n",
    "    <br>(3) Google's Distance Matrix API for \"New York City Taxi Trip Duration\" challenge - Source: Kaggle\n",
    "<br><br>I am going to use an external data set. It is not entirely external. I created a data set using 10k rows from the training data and called the Google matrix api for these rows. Then I used this new data set to build a model which predicts trip duration for larger data set (training data set with 3M rows) "
   ]
  },
  {
   "cell_type": "code",
   "execution_count": 42,
   "metadata": {},
   "outputs": [
    {
     "data": {
      "text/plain": [
       "key                           object\n",
       "fare_amount                  float64\n",
       "pickup_datetime       datetime64[ns]\n",
       "pickup_longitude             float64\n",
       "pickup_latitude              float64\n",
       "dropoff_longitude            float64\n",
       "dropoff_latitude             float64\n",
       "passenger_count                int64\n",
       "euclidean_distance           float64\n",
       "pickup_hour                    int64\n",
       "pickup_year                    int64\n",
       "fare_per_mile                float64\n",
       "google_distance              float64\n",
       "google_time                  float64\n",
       "dtype: object"
      ]
     },
     "execution_count": 42,
     "metadata": {},
     "output_type": "execute_result"
    }
   ],
   "source": [
    "#Loading the external data set\n",
    "df_google =pd.read_csv('C:/Users/Shubham/Desktop/train_google2.csv', parse_dates=[\"pickup_datetime\"])\n",
    "df_google.dtypes"
   ]
  },
  {
   "cell_type": "markdown",
   "metadata": {},
   "source": [
    "Building Random Forest Regressive model using the google data set."
   ]
  },
  {
   "cell_type": "code",
   "execution_count": 43,
   "metadata": {},
   "outputs": [
    {
     "name": "stdout",
     "output_type": "stream",
     "text": [
      "Below is the RMSE for Random Forest model for predicting trip time\n"
     ]
    },
    {
     "data": {
      "text/plain": [
       "3.2852258973097417"
      ]
     },
     "execution_count": 43,
     "metadata": {},
     "output_type": "execute_result"
    }
   ],
   "source": [
    "matrix = np.matrix(df_google)\n",
    "X = df_google[['pickup_longitude', 'pickup_latitude', 'euclidean_distance']]\n",
    "y = df_google.google_time\n",
    "\n",
    "X_train, X_test, y_train, y_test = train_test_split(X, y, test_size=0.25, random_state=42)\n",
    "rfr = RandomForestRegressor(random_state=42)\n",
    "rfr.fit(X_train, y_train)\n",
    "pred = rfr.predict(X_test)\n",
    "error = sqrt(mean_squared_error(y_test,pred))\n",
    "print('Below is the RMSE for Random Forest model for predicting trip time')\n",
    "error"
   ]
  },
  {
   "cell_type": "markdown",
   "metadata": {},
   "source": [
    "Let us train our model for entire data set and predict values."
   ]
  },
  {
   "cell_type": "code",
   "execution_count": 44,
   "metadata": {},
   "outputs": [],
   "source": [
    "rfr.fit(X, y)\n",
    "matrix = np.matrix(df_raw)\n",
    "X = df_raw[['pickup_longitude', 'pickup_latitude', 'euclidean_distance']]\n",
    "\n",
    "df_raw['estimated_google_time'] = rfr.predict(X)"
   ]
  },
  {
   "cell_type": "markdown",
   "metadata": {},
   "source": [
    "**Task 8** Now let us build another Random Forest Regressive model for predicting the taxi fare with one more feature that we just created."
   ]
  },
  {
   "cell_type": "code",
   "execution_count": 54,
   "metadata": {},
   "outputs": [],
   "source": [
    "matrix = np.matrix(df_raw)\n",
    "X = df_raw[['euclidean_distance', 'pickup_year', 'estimated_google_time']]\n",
    "y = df_raw.fare_amount"
   ]
  },
  {
   "cell_type": "code",
   "execution_count": 55,
   "metadata": {},
   "outputs": [
    {
     "data": {
      "text/plain": [
       "RandomForestRegressor(bootstrap=True, criterion='mse', max_depth=None,\n",
       "           max_features='auto', max_leaf_nodes=None,\n",
       "           min_impurity_decrease=0.0, min_impurity_split=None,\n",
       "           min_samples_leaf=1, min_samples_split=2,\n",
       "           min_weight_fraction_leaf=0.0, n_estimators=10, n_jobs=1,\n",
       "           oob_score=False, random_state=42, verbose=0, warm_start=False)"
      ]
     },
     "execution_count": 55,
     "metadata": {},
     "output_type": "execute_result"
    }
   ],
   "source": [
    "X_train, X_test, y_train, y_test = train_test_split(X, y, test_size=0.25, random_state=42)\n",
    "rfr = RandomForestRegressor(random_state=42)\n",
    "rfr.fit(X, y)"
   ]
  },
  {
   "cell_type": "markdown",
   "metadata": {},
   "source": [
    "Let us use the model to predict values."
   ]
  },
  {
   "cell_type": "code",
   "execution_count": 56,
   "metadata": {},
   "outputs": [],
   "source": [
    "matrix = np.matrix(df_test)\n",
    "X = df_test[['euclidean_distance', 'pickup_year', 'google_time']]\n",
    "\n",
    "y_pred = rfr.predict(X)"
   ]
  },
  {
   "cell_type": "markdown",
   "metadata": {},
   "source": [
    "Finally we output the submission file containing fare amounts for the corresponding trips."
   ]
  },
  {
   "cell_type": "code",
   "execution_count": 57,
   "metadata": {},
   "outputs": [],
   "source": [
    "submission = pd.DataFrame(\n",
    "    {'key': df_test.key, 'fare_amount': y_pred},\n",
    "    columns = ['key', 'fare_amount'])\n",
    "submission.to_csv('C:/Users/Shubham/Desktop/submission_randomforest_estimatedtime1.csv', index = False)"
   ]
  }
 ],
 "metadata": {
  "kernelspec": {
   "display_name": "Python 3",
   "language": "python",
   "name": "python3"
  },
  "language_info": {
   "codemirror_mode": {
    "name": "ipython",
    "version": 3
   },
   "file_extension": ".py",
   "mimetype": "text/x-python",
   "name": "python",
   "nbconvert_exporter": "python",
   "pygments_lexer": "ipython3",
   "version": "3.6.5"
  }
 },
 "nbformat": 4,
 "nbformat_minor": 2
}
